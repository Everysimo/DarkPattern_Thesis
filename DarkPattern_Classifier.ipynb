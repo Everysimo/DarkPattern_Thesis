{
  "cells": [
    {
      "cell_type": "markdown",
      "metadata": {
        "id": "view-in-github",
        "colab_type": "text"
      },
      "source": [
        "<a href=\"https://colab.research.google.com/github/Everysimo/DarkPattern_Thesis/blob/main/DarkPattern_Classifier.ipynb\" target=\"_parent\"><img src=\"https://colab.research.google.com/assets/colab-badge.svg\" alt=\"Open In Colab\"/></a>"
      ]
    },
    {
      "cell_type": "markdown",
      "metadata": {
        "id": "DHmqBen5ovvs"
      },
      "source": [
        "# Classificazione Dark Pattern"
      ]
    },
    {
      "cell_type": "markdown",
      "metadata": {
        "id": "N8WsC2p4o4a5"
      },
      "source": [
        "## Ottenimento del dataset"
      ]
    },
    {
      "cell_type": "code",
      "execution_count": null,
      "metadata": {
        "colab": {
          "base_uri": "https://localhost:8080/",
          "height": 206
        },
        "id": "0OxrjcJWo8o-",
        "outputId": "937216a1-572f-44b3-9646-fb4ad5aa0ef5"
      },
      "outputs": [
        {
          "data": {
            "text/html": [
              "\n",
              "  <div id=\"df-05f88e18-b1ed-4b45-afd1-7d2dd79a8a7a\">\n",
              "    <div class=\"colab-df-container\">\n",
              "      <div>\n",
              "<style scoped>\n",
              "    .dataframe tbody tr th:only-of-type {\n",
              "        vertical-align: middle;\n",
              "    }\n",
              "\n",
              "    .dataframe tbody tr th {\n",
              "        vertical-align: top;\n",
              "    }\n",
              "\n",
              "    .dataframe thead th {\n",
              "        text-align: right;\n",
              "    }\n",
              "</style>\n",
              "<table border=\"1\" class=\"dataframe\">\n",
              "  <thead>\n",
              "    <tr style=\"text-align: right;\">\n",
              "      <th></th>\n",
              "      <th>Pattern String</th>\n",
              "      <th>Comment</th>\n",
              "      <th>Pattern Category</th>\n",
              "      <th>Pattern Type</th>\n",
              "      <th>Where in website?</th>\n",
              "      <th>Deceptive?</th>\n",
              "      <th>Website Page</th>\n",
              "    </tr>\n",
              "  </thead>\n",
              "  <tbody>\n",
              "    <tr>\n",
              "      <th>0</th>\n",
              "      <td>Collin P. from Grandview Missouri just bought ...</td>\n",
              "      <td>Periodic popup</td>\n",
              "      <td>Social Proof</td>\n",
              "      <td>Activity Notification</td>\n",
              "      <td>Product Page</td>\n",
              "      <td>No</td>\n",
              "      <td>https://alaindupetit.com/collections/all-suits...</td>\n",
              "    </tr>\n",
              "    <tr>\n",
              "      <th>1</th>\n",
              "      <td>Faith in Glendale, United States purchased a C...</td>\n",
              "      <td>Periodic popup</td>\n",
              "      <td>Social Proof</td>\n",
              "      <td>Activity Notification</td>\n",
              "      <td>Product Page</td>\n",
              "      <td>No</td>\n",
              "      <td>https://bonescoffee.com/products/strawberry-ch...</td>\n",
              "    </tr>\n",
              "    <tr>\n",
              "      <th>2</th>\n",
              "      <td>Sharmeen Atif From Karachi just bought Stylish...</td>\n",
              "      <td>Periodic popup</td>\n",
              "      <td>Social Proof</td>\n",
              "      <td>Activity Notification</td>\n",
              "      <td>Product Page</td>\n",
              "      <td>No</td>\n",
              "      <td>https://brandsego.com/collections/under-rs-99/...</td>\n",
              "    </tr>\n",
              "    <tr>\n",
              "      <th>3</th>\n",
              "      <td>9 people are viewing this.</td>\n",
              "      <td>Product detail</td>\n",
              "      <td>Social Proof</td>\n",
              "      <td>Activity Notification</td>\n",
              "      <td>Product Page</td>\n",
              "      <td>No</td>\n",
              "      <td>https://brightechshop.com/products/ambience-so...</td>\n",
              "    </tr>\n",
              "    <tr>\n",
              "      <th>4</th>\n",
              "      <td>5338 people viewed this in the last hour</td>\n",
              "      <td>Periodic popup</td>\n",
              "      <td>Social Proof</td>\n",
              "      <td>Activity Notification</td>\n",
              "      <td>Product Page</td>\n",
              "      <td>No</td>\n",
              "      <td>https://bumpboxes.com/</td>\n",
              "    </tr>\n",
              "  </tbody>\n",
              "</table>\n",
              "</div>\n",
              "      <button class=\"colab-df-convert\" onclick=\"convertToInteractive('df-05f88e18-b1ed-4b45-afd1-7d2dd79a8a7a')\"\n",
              "              title=\"Convert this dataframe to an interactive table.\"\n",
              "              style=\"display:none;\">\n",
              "        \n",
              "  <svg xmlns=\"http://www.w3.org/2000/svg\" height=\"24px\"viewBox=\"0 0 24 24\"\n",
              "       width=\"24px\">\n",
              "    <path d=\"M0 0h24v24H0V0z\" fill=\"none\"/>\n",
              "    <path d=\"M18.56 5.44l.94 2.06.94-2.06 2.06-.94-2.06-.94-.94-2.06-.94 2.06-2.06.94zm-11 1L8.5 8.5l.94-2.06 2.06-.94-2.06-.94L8.5 2.5l-.94 2.06-2.06.94zm10 10l.94 2.06.94-2.06 2.06-.94-2.06-.94-.94-2.06-.94 2.06-2.06.94z\"/><path d=\"M17.41 7.96l-1.37-1.37c-.4-.4-.92-.59-1.43-.59-.52 0-1.04.2-1.43.59L10.3 9.45l-7.72 7.72c-.78.78-.78 2.05 0 2.83L4 21.41c.39.39.9.59 1.41.59.51 0 1.02-.2 1.41-.59l7.78-7.78 2.81-2.81c.8-.78.8-2.07 0-2.86zM5.41 20L4 18.59l7.72-7.72 1.47 1.35L5.41 20z\"/>\n",
              "  </svg>\n",
              "      </button>\n",
              "      \n",
              "  <style>\n",
              "    .colab-df-container {\n",
              "      display:flex;\n",
              "      flex-wrap:wrap;\n",
              "      gap: 12px;\n",
              "    }\n",
              "\n",
              "    .colab-df-convert {\n",
              "      background-color: #E8F0FE;\n",
              "      border: none;\n",
              "      border-radius: 50%;\n",
              "      cursor: pointer;\n",
              "      display: none;\n",
              "      fill: #1967D2;\n",
              "      height: 32px;\n",
              "      padding: 0 0 0 0;\n",
              "      width: 32px;\n",
              "    }\n",
              "\n",
              "    .colab-df-convert:hover {\n",
              "      background-color: #E2EBFA;\n",
              "      box-shadow: 0px 1px 2px rgba(60, 64, 67, 0.3), 0px 1px 3px 1px rgba(60, 64, 67, 0.15);\n",
              "      fill: #174EA6;\n",
              "    }\n",
              "\n",
              "    [theme=dark] .colab-df-convert {\n",
              "      background-color: #3B4455;\n",
              "      fill: #D2E3FC;\n",
              "    }\n",
              "\n",
              "    [theme=dark] .colab-df-convert:hover {\n",
              "      background-color: #434B5C;\n",
              "      box-shadow: 0px 1px 3px 1px rgba(0, 0, 0, 0.15);\n",
              "      filter: drop-shadow(0px 1px 2px rgba(0, 0, 0, 0.3));\n",
              "      fill: #FFFFFF;\n",
              "    }\n",
              "  </style>\n",
              "\n",
              "      <script>\n",
              "        const buttonEl =\n",
              "          document.querySelector('#df-05f88e18-b1ed-4b45-afd1-7d2dd79a8a7a button.colab-df-convert');\n",
              "        buttonEl.style.display =\n",
              "          google.colab.kernel.accessAllowed ? 'block' : 'none';\n",
              "\n",
              "        async function convertToInteractive(key) {\n",
              "          const element = document.querySelector('#df-05f88e18-b1ed-4b45-afd1-7d2dd79a8a7a');\n",
              "          const dataTable =\n",
              "            await google.colab.kernel.invokeFunction('convertToInteractive',\n",
              "                                                     [key], {});\n",
              "          if (!dataTable) return;\n",
              "\n",
              "          const docLinkHtml = 'Like what you see? Visit the ' +\n",
              "            '<a target=\"_blank\" href=https://colab.research.google.com/notebooks/data_table.ipynb>data table notebook</a>'\n",
              "            + ' to learn more about interactive tables.';\n",
              "          element.innerHTML = '';\n",
              "          dataTable['output_type'] = 'display_data';\n",
              "          await google.colab.output.renderOutput(dataTable, element);\n",
              "          const docLink = document.createElement('div');\n",
              "          docLink.innerHTML = docLinkHtml;\n",
              "          element.appendChild(docLink);\n",
              "        }\n",
              "      </script>\n",
              "    </div>\n",
              "  </div>\n",
              "  "
            ],
            "text/plain": [
              "                                      Pattern String         Comment  \\\n",
              "0  Collin P. from Grandview Missouri just bought ...  Periodic popup   \n",
              "1  Faith in Glendale, United States purchased a C...  Periodic popup   \n",
              "2  Sharmeen Atif From Karachi just bought Stylish...  Periodic popup   \n",
              "3                         9 people are viewing this.  Product detail   \n",
              "4           5338 people viewed this in the last hour  Periodic popup   \n",
              "\n",
              "  Pattern Category           Pattern Type Where in website? Deceptive?  \\\n",
              "0     Social Proof  Activity Notification      Product Page         No   \n",
              "1     Social Proof  Activity Notification      Product Page         No   \n",
              "2     Social Proof  Activity Notification      Product Page         No   \n",
              "3     Social Proof  Activity Notification      Product Page         No   \n",
              "4     Social Proof  Activity Notification      Product Page         No   \n",
              "\n",
              "                                        Website Page  \n",
              "0  https://alaindupetit.com/collections/all-suits...  \n",
              "1  https://bonescoffee.com/products/strawberry-ch...  \n",
              "2  https://brandsego.com/collections/under-rs-99/...  \n",
              "3  https://brightechshop.com/products/ambience-so...  \n",
              "4                             https://bumpboxes.com/  "
            ]
          },
          "execution_count": 45,
          "metadata": {},
          "output_type": "execute_result"
        }
      ],
      "source": [
        "import pandas as pd\n",
        "import numpy as np\n",
        "import os\n",
        "import matplotlib.pyplot as plt\n",
        "from sklearn.feature_extraction.text import TfidfVectorizer\n",
        "from sklearn.metrics import classification_report, confusion_matrix\n",
        "from sklearn.pipeline import Pipeline\n",
        "from sklearn.ensemble import RandomForestClassifier\n",
        "from sklearn.model_selection import train_test_split\n",
        "from sklearn.feature_selection import SelectKBest, chi2\n",
        "from six.moves import urllib\n",
        "from matplotlib import style\n",
        "import missingno as msno\n",
        "import pickle\n",
        "import imblearn\n",
        "\n",
        "style.use('seaborn-whitegrid')\n",
        "plt.rcParams['figure.figsize'] = (20,10)\n",
        "\n",
        "DOWNLOAD_ROOT=\"https://raw.githubusercontent.com/Everysimo/DarkPattern_Thesis/main/dark-patterns-v2.csv\"\n",
        "\n",
        "#fetch del dataset da github\n",
        "def fetch_file_data1(file_url1=DOWNLOAD_ROOT, file_path1=\"file\"):\n",
        "  os.makedirs(file_path1, exist_ok=True)\n",
        "  csv_path1 = os.path.join(file_path1, \"dataset.csv\")\n",
        "  urllib.request.urlretrieve(file_url1, csv_path1)\n",
        "fetch_file_data1()\n",
        "\n",
        "#df è la variabile che contiene il dataset\n",
        "df=pd.read_csv(\"file/dataset.csv\")\n",
        "df=df[[\"Pattern String\", \"Comment\", \"Pattern Category\", \"Pattern Type\", \"Where in website?\", \"Deceptive?\", \"Website Page\"]]\n",
        "df.head(5)"
      ]
    },
    {
      "cell_type": "markdown",
      "metadata": {
        "id": "5AnozY2btllD"
      },
      "source": [
        "## 1) Data Cleaning"
      ]
    },
    {
      "cell_type": "markdown",
      "metadata": {
        "id": "t-4S5fB_ttiR"
      },
      "source": [
        "### 1.1) Descrizione del dataset"
      ]
    },
    {
      "cell_type": "code",
      "execution_count": null,
      "metadata": {
        "colab": {
          "base_uri": "https://localhost:8080/",
          "height": 175
        },
        "id": "7plMa5vlt1Z4",
        "outputId": "b090a977-595e-4e8e-9c57-45ceb7eb5225"
      },
      "outputs": [
        {
          "data": {
            "text/html": [
              "\n",
              "  <div id=\"df-63614be3-7652-4226-b997-98f0bcfd4e3f\">\n",
              "    <div class=\"colab-df-container\">\n",
              "      <div>\n",
              "<style scoped>\n",
              "    .dataframe tbody tr th:only-of-type {\n",
              "        vertical-align: middle;\n",
              "    }\n",
              "\n",
              "    .dataframe tbody tr th {\n",
              "        vertical-align: top;\n",
              "    }\n",
              "\n",
              "    .dataframe thead th {\n",
              "        text-align: right;\n",
              "    }\n",
              "</style>\n",
              "<table border=\"1\" class=\"dataframe\">\n",
              "  <thead>\n",
              "    <tr style=\"text-align: right;\">\n",
              "      <th></th>\n",
              "      <th>Pattern String</th>\n",
              "      <th>Comment</th>\n",
              "      <th>Pattern Category</th>\n",
              "      <th>Pattern Type</th>\n",
              "      <th>Where in website?</th>\n",
              "      <th>Deceptive?</th>\n",
              "      <th>Website Page</th>\n",
              "    </tr>\n",
              "  </thead>\n",
              "  <tbody>\n",
              "    <tr>\n",
              "      <th>count</th>\n",
              "      <td>1512</td>\n",
              "      <td>1798</td>\n",
              "      <td>1818</td>\n",
              "      <td>1818</td>\n",
              "      <td>1818</td>\n",
              "      <td>1818</td>\n",
              "      <td>1818</td>\n",
              "    </tr>\n",
              "    <tr>\n",
              "      <th>unique</th>\n",
              "      <td>1178</td>\n",
              "      <td>371</td>\n",
              "      <td>7</td>\n",
              "      <td>15</td>\n",
              "      <td>5</td>\n",
              "      <td>3</td>\n",
              "      <td>1398</td>\n",
              "    </tr>\n",
              "    <tr>\n",
              "      <th>top</th>\n",
              "      <td>Only 1 left</td>\n",
              "      <td>Product detail</td>\n",
              "      <td>Scarcity</td>\n",
              "      <td>Low-stock Message</td>\n",
              "      <td>Product Page</td>\n",
              "      <td>No</td>\n",
              "      <td>https://fuzz.online/products/fg-grater</td>\n",
              "    </tr>\n",
              "    <tr>\n",
              "      <th>freq</th>\n",
              "      <td>26</td>\n",
              "      <td>684</td>\n",
              "      <td>679</td>\n",
              "      <td>632</td>\n",
              "      <td>1609</td>\n",
              "      <td>1584</td>\n",
              "      <td>11</td>\n",
              "    </tr>\n",
              "  </tbody>\n",
              "</table>\n",
              "</div>\n",
              "      <button class=\"colab-df-convert\" onclick=\"convertToInteractive('df-63614be3-7652-4226-b997-98f0bcfd4e3f')\"\n",
              "              title=\"Convert this dataframe to an interactive table.\"\n",
              "              style=\"display:none;\">\n",
              "        \n",
              "  <svg xmlns=\"http://www.w3.org/2000/svg\" height=\"24px\"viewBox=\"0 0 24 24\"\n",
              "       width=\"24px\">\n",
              "    <path d=\"M0 0h24v24H0V0z\" fill=\"none\"/>\n",
              "    <path d=\"M18.56 5.44l.94 2.06.94-2.06 2.06-.94-2.06-.94-.94-2.06-.94 2.06-2.06.94zm-11 1L8.5 8.5l.94-2.06 2.06-.94-2.06-.94L8.5 2.5l-.94 2.06-2.06.94zm10 10l.94 2.06.94-2.06 2.06-.94-2.06-.94-.94-2.06-.94 2.06-2.06.94z\"/><path d=\"M17.41 7.96l-1.37-1.37c-.4-.4-.92-.59-1.43-.59-.52 0-1.04.2-1.43.59L10.3 9.45l-7.72 7.72c-.78.78-.78 2.05 0 2.83L4 21.41c.39.39.9.59 1.41.59.51 0 1.02-.2 1.41-.59l7.78-7.78 2.81-2.81c.8-.78.8-2.07 0-2.86zM5.41 20L4 18.59l7.72-7.72 1.47 1.35L5.41 20z\"/>\n",
              "  </svg>\n",
              "      </button>\n",
              "      \n",
              "  <style>\n",
              "    .colab-df-container {\n",
              "      display:flex;\n",
              "      flex-wrap:wrap;\n",
              "      gap: 12px;\n",
              "    }\n",
              "\n",
              "    .colab-df-convert {\n",
              "      background-color: #E8F0FE;\n",
              "      border: none;\n",
              "      border-radius: 50%;\n",
              "      cursor: pointer;\n",
              "      display: none;\n",
              "      fill: #1967D2;\n",
              "      height: 32px;\n",
              "      padding: 0 0 0 0;\n",
              "      width: 32px;\n",
              "    }\n",
              "\n",
              "    .colab-df-convert:hover {\n",
              "      background-color: #E2EBFA;\n",
              "      box-shadow: 0px 1px 2px rgba(60, 64, 67, 0.3), 0px 1px 3px 1px rgba(60, 64, 67, 0.15);\n",
              "      fill: #174EA6;\n",
              "    }\n",
              "\n",
              "    [theme=dark] .colab-df-convert {\n",
              "      background-color: #3B4455;\n",
              "      fill: #D2E3FC;\n",
              "    }\n",
              "\n",
              "    [theme=dark] .colab-df-convert:hover {\n",
              "      background-color: #434B5C;\n",
              "      box-shadow: 0px 1px 3px 1px rgba(0, 0, 0, 0.15);\n",
              "      filter: drop-shadow(0px 1px 2px rgba(0, 0, 0, 0.3));\n",
              "      fill: #FFFFFF;\n",
              "    }\n",
              "  </style>\n",
              "\n",
              "      <script>\n",
              "        const buttonEl =\n",
              "          document.querySelector('#df-63614be3-7652-4226-b997-98f0bcfd4e3f button.colab-df-convert');\n",
              "        buttonEl.style.display =\n",
              "          google.colab.kernel.accessAllowed ? 'block' : 'none';\n",
              "\n",
              "        async function convertToInteractive(key) {\n",
              "          const element = document.querySelector('#df-63614be3-7652-4226-b997-98f0bcfd4e3f');\n",
              "          const dataTable =\n",
              "            await google.colab.kernel.invokeFunction('convertToInteractive',\n",
              "                                                     [key], {});\n",
              "          if (!dataTable) return;\n",
              "\n",
              "          const docLinkHtml = 'Like what you see? Visit the ' +\n",
              "            '<a target=\"_blank\" href=https://colab.research.google.com/notebooks/data_table.ipynb>data table notebook</a>'\n",
              "            + ' to learn more about interactive tables.';\n",
              "          element.innerHTML = '';\n",
              "          dataTable['output_type'] = 'display_data';\n",
              "          await google.colab.output.renderOutput(dataTable, element);\n",
              "          const docLink = document.createElement('div');\n",
              "          docLink.innerHTML = docLinkHtml;\n",
              "          element.appendChild(docLink);\n",
              "        }\n",
              "      </script>\n",
              "    </div>\n",
              "  </div>\n",
              "  "
            ],
            "text/plain": [
              "       Pattern String         Comment Pattern Category       Pattern Type  \\\n",
              "count            1512            1798             1818               1818   \n",
              "unique           1178             371                7                 15   \n",
              "top       Only 1 left  Product detail         Scarcity  Low-stock Message   \n",
              "freq               26             684              679                632   \n",
              "\n",
              "       Where in website? Deceptive?                            Website Page  \n",
              "count               1818       1818                                    1818  \n",
              "unique                 5          3                                    1398  \n",
              "top         Product Page         No  https://fuzz.online/products/fg-grater  \n",
              "freq                1609       1584                                      11  "
            ]
          },
          "execution_count": 46,
          "metadata": {},
          "output_type": "execute_result"
        }
      ],
      "source": [
        "#descrizione del dataset\n",
        "df.describe()"
      ]
    },
    {
      "cell_type": "markdown",
      "metadata": {
        "id": "Ew0vnhe0txct"
      },
      "source": [
        "### 1.2) Verifica valori null nel dataset"
      ]
    },
    {
      "cell_type": "code",
      "execution_count": null,
      "metadata": {
        "colab": {
          "base_uri": "https://localhost:8080/"
        },
        "id": "Uh63RY68uKcZ",
        "outputId": "a81e53ea-f6fa-494e-a044-11c8a8ed8a6f"
      },
      "outputs": [
        {
          "data": {
            "text/plain": [
              "Pattern String       306\n",
              "Comment               20\n",
              "Pattern Category       0\n",
              "Pattern Type           0\n",
              "Where in website?      0\n",
              "Deceptive?             0\n",
              "Website Page           0\n",
              "dtype: int64"
            ]
          },
          "execution_count": 47,
          "metadata": {},
          "output_type": "execute_result"
        }
      ],
      "source": [
        "#verifica se ci sono dati null nel dataset\n",
        "df.isnull().any()\n",
        "df.isnull().sum()"
      ]
    },
    {
      "cell_type": "code",
      "execution_count": null,
      "metadata": {
        "colab": {
          "base_uri": "https://localhost:8080/"
        },
        "id": "fnnhpLn_uRus",
        "outputId": "cd9e57b3-8fdf-4d85-8591-d96df6b0d8e4"
      },
      "outputs": [
        {
          "name": "stdout",
          "output_type": "stream",
          "text": [
            "Pattern String        True\n",
            "Comment               True\n",
            "Pattern Category     False\n",
            "Pattern Type         False\n",
            "Where in website?    False\n",
            "Deceptive?           False\n",
            "Website Page         False\n",
            "dtype: bool\n"
          ]
        },
        {
          "data": {
            "text/plain": [
              "Pattern String       306\n",
              "Comment               20\n",
              "Pattern Category       0\n",
              "Pattern Type           0\n",
              "Where in website?      0\n",
              "Deceptive?             0\n",
              "Website Page           0\n",
              "dtype: int64"
            ]
          },
          "execution_count": 48,
          "metadata": {},
          "output_type": "execute_result"
        }
      ],
      "source": [
        "#verifica se ci sono dati NA nel dataset\n",
        "print(df.isna().any())\n",
        "df.isna().sum()"
      ]
    },
    {
      "cell_type": "code",
      "execution_count": null,
      "metadata": {
        "colab": {
          "base_uri": "https://localhost:8080/",
          "height": 711
        },
        "id": "KEe2f87gvOFf",
        "outputId": "a9959d36-44f6-410f-ae95-d671124773f5"
      },
      "outputs": [
        {
          "data": {
            "text/plain": [
              "<matplotlib.axes._subplots.AxesSubplot at 0x7fa59de2da90>"
            ]
          },
          "execution_count": 49,
          "metadata": {},
          "output_type": "execute_result"
        },
        {
          "data": {
            "image/png": "[encoded data removed]",
            "text/plain": [
              "<Figure size 1800x720 with 2 Axes>"
            ]
          },
          "metadata": {},
          "output_type": "display_data"
        }
      ],
      "source": [
        "%matplotlib inline\n",
        "msno.matrix(df)"
      ]
    },
    {
      "cell_type": "code",
      "execution_count": null,
      "metadata": {
        "colab": {
          "base_uri": "https://localhost:8080/",
          "height": 711
        },
        "id": "Lk3UOzcgAhyO",
        "outputId": "917a62d7-ec12-43c0-a634-6911de5e64de"
      },
      "outputs": [
        {
          "data": {
            "text/plain": [
              "<matplotlib.axes._subplots.AxesSubplot at 0x7fa59ddbf950>"
            ]
          },
          "execution_count": 50,
          "metadata": {},
          "output_type": "execute_result"
        },
        {
          "data": {
            "image/png": "[encoded data removed]",
            "text/plain": [
              "<Figure size 1800x720 with 2 Axes>"
            ]
          },
          "metadata": {},
          "output_type": "display_data"
        }
      ],
      "source": [
        "df = df.dropna(subset=['Pattern String'])\n",
        "%matplotlib inline\n",
        "msno.matrix(df)"
      ]
    },
    {
      "cell_type": "markdown",
      "metadata": {
        "id": "ZSj-49g8uccS"
      },
      "source": [
        "### 1.3) Feature Selection"
      ]
    },
    {
      "cell_type": "code",
      "execution_count": null,
      "metadata": {
        "colab": {
          "base_uri": "https://localhost:8080/",
          "height": 206
        },
        "id": "r5jYYh6mug5v",
        "outputId": "ffcf9978-e0c0-4556-fc42-39863bf6ccc2"
      },
      "outputs": [
        {
          "data": {
            "text/html": [
              "\n",
              "  <div id=\"df-07c1bbcd-cf80-4471-a5f5-a81abb2a981f\">\n",
              "    <div class=\"colab-df-container\">\n",
              "      <div>\n",
              "<style scoped>\n",
              "    .dataframe tbody tr th:only-of-type {\n",
              "        vertical-align: middle;\n",
              "    }\n",
              "\n",
              "    .dataframe tbody tr th {\n",
              "        vertical-align: top;\n",
              "    }\n",
              "\n",
              "    .dataframe thead th {\n",
              "        text-align: right;\n",
              "    }\n",
              "</style>\n",
              "<table border=\"1\" class=\"dataframe\">\n",
              "  <thead>\n",
              "    <tr style=\"text-align: right;\">\n",
              "      <th></th>\n",
              "      <th>Pattern String</th>\n",
              "      <th>Pattern Type</th>\n",
              "    </tr>\n",
              "  </thead>\n",
              "  <tbody>\n",
              "    <tr>\n",
              "      <th>0</th>\n",
              "      <td>Collin P. from Grandview Missouri just bought ...</td>\n",
              "      <td>Activity Notification</td>\n",
              "    </tr>\n",
              "    <tr>\n",
              "      <th>1</th>\n",
              "      <td>Faith in Glendale, United States purchased a C...</td>\n",
              "      <td>Activity Notification</td>\n",
              "    </tr>\n",
              "    <tr>\n",
              "      <th>2</th>\n",
              "      <td>Sharmeen Atif From Karachi just bought Stylish...</td>\n",
              "      <td>Activity Notification</td>\n",
              "    </tr>\n",
              "    <tr>\n",
              "      <th>3</th>\n",
              "      <td>9 people are viewing this.</td>\n",
              "      <td>Activity Notification</td>\n",
              "    </tr>\n",
              "    <tr>\n",
              "      <th>4</th>\n",
              "      <td>5338 people viewed this in the last hour</td>\n",
              "      <td>Activity Notification</td>\n",
              "    </tr>\n",
              "  </tbody>\n",
              "</table>\n",
              "</div>\n",
              "      <button class=\"colab-df-convert\" onclick=\"convertToInteractive('df-07c1bbcd-cf80-4471-a5f5-a81abb2a981f')\"\n",
              "              title=\"Convert this dataframe to an interactive table.\"\n",
              "              style=\"display:none;\">\n",
              "        \n",
              "  <svg xmlns=\"http://www.w3.org/2000/svg\" height=\"24px\"viewBox=\"0 0 24 24\"\n",
              "       width=\"24px\">\n",
              "    <path d=\"M0 0h24v24H0V0z\" fill=\"none\"/>\n",
              "    <path d=\"M18.56 5.44l.94 2.06.94-2.06 2.06-.94-2.06-.94-.94-2.06-.94 2.06-2.06.94zm-11 1L8.5 8.5l.94-2.06 2.06-.94-2.06-.94L8.5 2.5l-.94 2.06-2.06.94zm10 10l.94 2.06.94-2.06 2.06-.94-2.06-.94-.94-2.06-.94 2.06-2.06.94z\"/><path d=\"M17.41 7.96l-1.37-1.37c-.4-.4-.92-.59-1.43-.59-.52 0-1.04.2-1.43.59L10.3 9.45l-7.72 7.72c-.78.78-.78 2.05 0 2.83L4 21.41c.39.39.9.59 1.41.59.51 0 1.02-.2 1.41-.59l7.78-7.78 2.81-2.81c.8-.78.8-2.07 0-2.86zM5.41 20L4 18.59l7.72-7.72 1.47 1.35L5.41 20z\"/>\n",
              "  </svg>\n",
              "      </button>\n",
              "      \n",
              "  <style>\n",
              "    .colab-df-container {\n",
              "      display:flex;\n",
              "      flex-wrap:wrap;\n",
              "      gap: 12px;\n",
              "    }\n",
              "\n",
              "    .colab-df-convert {\n",
              "      background-color: #E8F0FE;\n",
              "      border: none;\n",
              "      border-radius: 50%;\n",
              "      cursor: pointer;\n",
              "      display: none;\n",
              "      fill: #1967D2;\n",
              "      height: 32px;\n",
              "      padding: 0 0 0 0;\n",
              "      width: 32px;\n",
              "    }\n",
              "\n",
              "    .colab-df-convert:hover {\n",
              "      background-color: #E2EBFA;\n",
              "      box-shadow: 0px 1px 2px rgba(60, 64, 67, 0.3), 0px 1px 3px 1px rgba(60, 64, 67, 0.15);\n",
              "      fill: #174EA6;\n",
              "    }\n",
              "\n",
              "    [theme=dark] .colab-df-convert {\n",
              "      background-color: #3B4455;\n",
              "      fill: #D2E3FC;\n",
              "    }\n",
              "\n",
              "    [theme=dark] .colab-df-convert:hover {\n",
              "      background-color: #434B5C;\n",
              "      box-shadow: 0px 1px 3px 1px rgba(0, 0, 0, 0.15);\n",
              "      filter: drop-shadow(0px 1px 2px rgba(0, 0, 0, 0.3));\n",
              "      fill: #FFFFFF;\n",
              "    }\n",
              "  </style>\n",
              "\n",
              "      <script>\n",
              "        const buttonEl =\n",
              "          document.querySelector('#df-07c1bbcd-cf80-4471-a5f5-a81abb2a981f button.colab-df-convert');\n",
              "        buttonEl.style.display =\n",
              "          google.colab.kernel.accessAllowed ? 'block' : 'none';\n",
              "\n",
              "        async function convertToInteractive(key) {\n",
              "          const element = document.querySelector('#df-07c1bbcd-cf80-4471-a5f5-a81abb2a981f');\n",
              "          const dataTable =\n",
              "            await google.colab.kernel.invokeFunction('convertToInteractive',\n",
              "                                                     [key], {});\n",
              "          if (!dataTable) return;\n",
              "\n",
              "          const docLinkHtml = 'Like what you see? Visit the ' +\n",
              "            '<a target=\"_blank\" href=https://colab.research.google.com/notebooks/data_table.ipynb>data table notebook</a>'\n",
              "            + ' to learn more about interactive tables.';\n",
              "          element.innerHTML = '';\n",
              "          dataTable['output_type'] = 'display_data';\n",
              "          await google.colab.output.renderOutput(dataTable, element);\n",
              "          const docLink = document.createElement('div');\n",
              "          docLink.innerHTML = docLinkHtml;\n",
              "          element.appendChild(docLink);\n",
              "        }\n",
              "      </script>\n",
              "    </div>\n",
              "  </div>\n",
              "  "
            ],
            "text/plain": [
              "                                      Pattern String           Pattern Type\n",
              "0  Collin P. from Grandview Missouri just bought ...  Activity Notification\n",
              "1  Faith in Glendale, United States purchased a C...  Activity Notification\n",
              "2  Sharmeen Atif From Karachi just bought Stylish...  Activity Notification\n",
              "3                         9 people are viewing this.  Activity Notification\n",
              "4           5338 people viewed this in the last hour  Activity Notification"
            ]
          },
          "execution_count": 51,
          "metadata": {},
          "output_type": "execute_result"
        }
      ],
      "source": [
        "df=df[[\"Pattern String\", \"Pattern Type\"]]\n",
        "df.head(5)"
      ]
    },
    {
      "cell_type": "markdown",
      "metadata": {
        "id": "v0hVb4nL4VsS"
      },
      "source": [
        "## 2)Text Pre-Processing"
      ]
    },
    {
      "cell_type": "code",
      "execution_count": null,
      "metadata": {
        "colab": {
          "base_uri": "https://localhost:8080/",
          "height": 352
        },
        "id": "c1HP-QXNBKve",
        "outputId": "a13e8961-1dd0-4251-e4a3-f21e1cfe37e1"
      },
      "outputs": [
        {
          "name": "stdout",
          "output_type": "stream",
          "text": [
            "[nltk_data] Downloading package stopwords to /root/nltk_data...\n",
            "[nltk_data]   Package stopwords is already up-to-date!\n"
          ]
        },
        {
          "name": "stderr",
          "output_type": "stream",
          "text": [
            "/usr/local/lib/python3.7/dist-packages/ipykernel_launcher.py:12: SettingWithCopyWarning: \n",
            "A value is trying to be set on a copy of a slice from a DataFrame.\n",
            "Try using .loc[row_indexer,col_indexer] = value instead\n",
            "\n",
            "See the caveats in the documentation: https://pandas.pydata.org/pandas-docs/stable/user_guide/indexing.html#returning-a-view-versus-a-copy\n",
            "  if sys.path[0] == '':\n"
          ]
        },
        {
          "data": {
            "text/html": [
              "\n",
              "  <div id=\"df-17d45846-edc0-4e55-96d2-991bb7b1cf97\">\n",
              "    <div class=\"colab-df-container\">\n",
              "      <div>\n",
              "<style scoped>\n",
              "    .dataframe tbody tr th:only-of-type {\n",
              "        vertical-align: middle;\n",
              "    }\n",
              "\n",
              "    .dataframe tbody tr th {\n",
              "        vertical-align: top;\n",
              "    }\n",
              "\n",
              "    .dataframe thead th {\n",
              "        text-align: right;\n",
              "    }\n",
              "</style>\n",
              "<table border=\"1\" class=\"dataframe\">\n",
              "  <thead>\n",
              "    <tr style=\"text-align: right;\">\n",
              "      <th></th>\n",
              "      <th>Pattern String</th>\n",
              "      <th>Pattern Type</th>\n",
              "    </tr>\n",
              "  </thead>\n",
              "  <tbody>\n",
              "    <tr>\n",
              "      <th>0</th>\n",
              "      <td>collin p grandview missouri bought burgundi tw...</td>\n",
              "      <td>Activity Notification</td>\n",
              "    </tr>\n",
              "    <tr>\n",
              "      <th>1</th>\n",
              "      <td>faith glendal unit state purchas choos your fl...</td>\n",
              "      <td>Activity Notification</td>\n",
              "    </tr>\n",
              "    <tr>\n",
              "      <th>2</th>\n",
              "      <td>sharmeen atif from karachi bought stylish meta...</td>\n",
              "      <td>Activity Notification</td>\n",
              "    </tr>\n",
              "    <tr>\n",
              "      <th>3</th>\n",
              "      <td>peopl view</td>\n",
              "      <td>Activity Notification</td>\n",
              "    </tr>\n",
              "    <tr>\n",
              "      <th>4</th>\n",
              "      <td>peopl view last hour</td>\n",
              "      <td>Activity Notification</td>\n",
              "    </tr>\n",
              "  </tbody>\n",
              "</table>\n",
              "</div>\n",
              "      <button class=\"colab-df-convert\" onclick=\"convertToInteractive('df-17d45846-edc0-4e55-96d2-991bb7b1cf97')\"\n",
              "              title=\"Convert this dataframe to an interactive table.\"\n",
              "              style=\"display:none;\">\n",
              "        \n",
              "  <svg xmlns=\"http://www.w3.org/2000/svg\" height=\"24px\"viewBox=\"0 0 24 24\"\n",
              "       width=\"24px\">\n",
              "    <path d=\"M0 0h24v24H0V0z\" fill=\"none\"/>\n",
              "    <path d=\"M18.56 5.44l.94 2.06.94-2.06 2.06-.94-2.06-.94-.94-2.06-.94 2.06-2.06.94zm-11 1L8.5 8.5l.94-2.06 2.06-.94-2.06-.94L8.5 2.5l-.94 2.06-2.06.94zm10 10l.94 2.06.94-2.06 2.06-.94-2.06-.94-.94-2.06-.94 2.06-2.06.94z\"/><path d=\"M17.41 7.96l-1.37-1.37c-.4-.4-.92-.59-1.43-.59-.52 0-1.04.2-1.43.59L10.3 9.45l-7.72 7.72c-.78.78-.78 2.05 0 2.83L4 21.41c.39.39.9.59 1.41.59.51 0 1.02-.2 1.41-.59l7.78-7.78 2.81-2.81c.8-.78.8-2.07 0-2.86zM5.41 20L4 18.59l7.72-7.72 1.47 1.35L5.41 20z\"/>\n",
              "  </svg>\n",
              "      </button>\n",
              "      \n",
              "  <style>\n",
              "    .colab-df-container {\n",
              "      display:flex;\n",
              "      flex-wrap:wrap;\n",
              "      gap: 12px;\n",
              "    }\n",
              "\n",
              "    .colab-df-convert {\n",
              "      background-color: #E8F0FE;\n",
              "      border: none;\n",
              "      border-radius: 50%;\n",
              "      cursor: pointer;\n",
              "      display: none;\n",
              "      fill: #1967D2;\n",
              "      height: 32px;\n",
              "      padding: 0 0 0 0;\n",
              "      width: 32px;\n",
              "    }\n",
              "\n",
              "    .colab-df-convert:hover {\n",
              "      background-color: #E2EBFA;\n",
              "      box-shadow: 0px 1px 2px rgba(60, 64, 67, 0.3), 0px 1px 3px 1px rgba(60, 64, 67, 0.15);\n",
              "      fill: #174EA6;\n",
              "    }\n",
              "\n",
              "    [theme=dark] .colab-df-convert {\n",
              "      background-color: #3B4455;\n",
              "      fill: #D2E3FC;\n",
              "    }\n",
              "\n",
              "    [theme=dark] .colab-df-convert:hover {\n",
              "      background-color: #434B5C;\n",
              "      box-shadow: 0px 1px 3px 1px rgba(0, 0, 0, 0.15);\n",
              "      filter: drop-shadow(0px 1px 2px rgba(0, 0, 0, 0.3));\n",
              "      fill: #FFFFFF;\n",
              "    }\n",
              "  </style>\n",
              "\n",
              "      <script>\n",
              "        const buttonEl =\n",
              "          document.querySelector('#df-17d45846-edc0-4e55-96d2-991bb7b1cf97 button.colab-df-convert');\n",
              "        buttonEl.style.display =\n",
              "          google.colab.kernel.accessAllowed ? 'block' : 'none';\n",
              "\n",
              "        async function convertToInteractive(key) {\n",
              "          const element = document.querySelector('#df-17d45846-edc0-4e55-96d2-991bb7b1cf97');\n",
              "          const dataTable =\n",
              "            await google.colab.kernel.invokeFunction('convertToInteractive',\n",
              "                                                     [key], {});\n",
              "          if (!dataTable) return;\n",
              "\n",
              "          const docLinkHtml = 'Like what you see? Visit the ' +\n",
              "            '<a target=\"_blank\" href=https://colab.research.google.com/notebooks/data_table.ipynb>data table notebook</a>'\n",
              "            + ' to learn more about interactive tables.';\n",
              "          element.innerHTML = '';\n",
              "          dataTable['output_type'] = 'display_data';\n",
              "          await google.colab.output.renderOutput(dataTable, element);\n",
              "          const docLink = document.createElement('div');\n",
              "          docLink.innerHTML = docLinkHtml;\n",
              "          element.appendChild(docLink);\n",
              "        }\n",
              "      </script>\n",
              "    </div>\n",
              "  </div>\n",
              "  "
            ],
            "text/plain": [
              "                                      Pattern String           Pattern Type\n",
              "0  collin p grandview missouri bought burgundi tw...  Activity Notification\n",
              "1  faith glendal unit state purchas choos your fl...  Activity Notification\n",
              "2  sharmeen atif from karachi bought stylish meta...  Activity Notification\n",
              "3                                         peopl view  Activity Notification\n",
              "4                               peopl view last hour  Activity Notification"
            ]
          },
          "execution_count": 52,
          "metadata": {},
          "output_type": "execute_result"
        }
      ],
      "source": [
        "from nltk.corpus import stopwords\n",
        "from nltk.stem import PorterStemmer\n",
        "from sklearn.feature_extraction.text import TfidfVectorizer\n",
        "from sklearn.feature_extraction.text import TfidfTransformer\n",
        "import nltk\n",
        "import re\n",
        "\n",
        "nltk.download('stopwords')\n",
        "stemmer = PorterStemmer()\n",
        "words = stopwords.words(\"english\")\n",
        "\n",
        "df['Pattern String'] = df['Pattern String'].fillna('').apply(str)\n",
        "df['Pattern String'] = df['Pattern String'].apply(lambda x: \" \".join([stemmer.stem(i) for i in re.sub(\"[^a-zA-Z\\$]\", \" \", x).split() if i not in words]).lower())\n",
        "\n",
        "df.head(5)"
      ]
    },
    {
      "cell_type": "markdown",
      "metadata": {
        "id": "kEIaDXEb-TkF"
      },
      "source": [
        "##3)Creazione Modelli"
      ]
    },
    {
      "cell_type": "markdown",
      "metadata": {
        "id": "XH7CLdI4YFoN"
      },
      "source": [
        "### RandomForestClassifier"
      ]
    },
    {
      "cell_type": "code",
      "execution_count": null,
      "metadata": {
        "colab": {
          "base_uri": "https://localhost:8080/"
        },
        "id": "hV_jggOP-shB",
        "outputId": "fb81ea00-aa0b-4d9c-fa1b-32d547857b42"
      },
      "outputs": [
        {
          "name": "stdout",
          "output_type": "stream",
          "text": [
            "dict_keys(['fit_time', 'score_time', 'test_accuracy', 'test_f1', 'test_precision', 'test_recall'])\n",
            "Accuracy:  0.9063175675675678\n",
            "F1_micro:  0.9063175675675675\n",
            "Precision_micro:  0.9063175675675678\n",
            "Recall_micro:  0.9063175675675678\n"
          ]
        }
      ],
      "source": [
        "from sklearn.model_selection import RepeatedKFold, KFold\n",
        "from imblearn.over_sampling import RandomOverSampler\n",
        "from imblearn.pipeline import Pipeline\n",
        "from numpy import mean\n",
        "from sklearn.datasets import make_classification\n",
        "from sklearn.model_selection import cross_val_score\n",
        "from sklearn.model_selection import cross_validate\n",
        "from sklearn.model_selection import RepeatedStratifiedKFold\n",
        "\n",
        "#Scelta variabile dipendente (y) e indipendenti (X)\n",
        "X = df['Pattern String']\n",
        "y = df['Pattern Type']\n",
        "\n",
        "vectorizer = TfidfVectorizer(min_df= 3,stop_words=\"english\", sublinear_tf=True, norm='l2', ngram_range=(1, 2))\n",
        "\n",
        "tfidf_transformer = TfidfTransformer()\n",
        "\n",
        "#Usiamo una Pipeline per automatizzare i vari setp\n",
        "steps = [\n",
        "         ('vect', vectorizer),\n",
        "         ('over', RandomOverSampler(sampling_strategy='minority')),\n",
        "         ('tfidf', TfidfTransformer()),\n",
        "         ('chi',  SelectKBest(chi2, k=100)),\n",
        "         ('clf', RandomForestClassifier())]\n",
        "pipeline = Pipeline(steps=steps)\n",
        "\n",
        "# evaluate pipeline\n",
        "cv = RepeatedKFold(n_splits=40, n_repeats=40, random_state=42)\n",
        "\n",
        "scoring = {'accuracy': 'accuracy',\n",
        "           'f1': 'f1_micro',\n",
        "           'precision': 'precision_micro',\n",
        "           'recall': 'recall_micro'}\n",
        "scores = cross_validate(pipeline, X, y, scoring=scoring, cv=cv)\n",
        "print(scores.keys())\n",
        "print(\"Accuracy: \",np.mean(scores['test_accuracy']))\n",
        "print(\"F1_micro: \",np.mean(scores['test_f1']))\n",
        "print(\"Precision_micro: \",np.mean(scores['test_precision']))\n",
        "print(\"Recall_micro: \",np.mean(scores['test_recall']))"
      ]
    },
    {
      "cell_type": "markdown",
      "metadata": {
        "id": "34wfbV6-YN2A"
      },
      "source": [
        "Multinomial Naive Bayes"
      ]
    },
    {
      "cell_type": "code",
      "execution_count": null,
      "metadata": {
        "colab": {
          "base_uri": "https://localhost:8080/"
        },
        "id": "KIoeQkHtLQLa",
        "outputId": "9af1eae9-6136-4291-fe4a-918f27fc2b74"
      },
      "outputs": [
        {
          "name": "stdout",
          "output_type": "stream",
          "text": [
            "dict_keys(['fit_time', 'score_time', 'test_accuracy', 'test_f1', 'test_precision', 'test_recall'])\n",
            "Accuracy:  0.8108641536273115\n",
            "F1_micro:  0.8108641536273115\n",
            "Precision_micro:  0.8108641536273115\n",
            "Recall_micro:  0.8108641536273115\n"
          ]
        }
      ],
      "source": [
        "from sklearn.naive_bayes import MultinomialNB\n",
        "\n",
        "#Scelta variabile dipendente (y) e indipendenti (X)\n",
        "X = df['Pattern String']\n",
        "y = df['Pattern Type']\n",
        "\n",
        "steps = [\n",
        "         ('vect', vectorizer),\n",
        "         ('over', RandomOverSampler(sampling_strategy='minority')),\n",
        "         ('tfidf', TfidfTransformer()),\n",
        "         ('chi',  SelectKBest(chi2, k=100)),\n",
        "         ('clf', MultinomialNB())]\n",
        "pipeline = Pipeline(steps=steps)\n",
        "\n",
        "# evaluate pipeline\n",
        "cv = RepeatedKFold(n_splits=40, n_repeats=40, random_state=42)\n",
        "\n",
        "scoring = {'accuracy': 'accuracy',\n",
        "           'f1': 'f1_micro',\n",
        "           'precision': 'precision_micro',\n",
        "           'recall': 'recall_micro'}\n",
        "\n",
        "scores = cross_validate(pipeline, X, y, scoring=scoring, cv=cv)\n",
        "print(scores.keys())\n",
        "print(\"Accuracy: \",np.mean(scores['test_accuracy']))\n",
        "print(\"F1_micro: \",np.mean(scores['test_f1']))\n",
        "print(\"Precision_micro: \",np.mean(scores['test_precision']))\n",
        "print(\"Recall_micro: \",np.mean(scores['test_recall']))"
      ]
    },
    {
      "cell_type": "markdown",
      "metadata": {
        "id": "4Ut_Gv-kYSsa"
      },
      "source": [
        "KNeighborsClassifier"
      ]
    },
    {
      "cell_type": "code",
      "execution_count": null,
      "metadata": {
        "colab": {
          "background_save": true
        },
        "id": "ZrK6QmGXJniF",
        "outputId": "83879392-deec-4175-b588-6045758db255"
      },
      "outputs": [
        {
          "name": "stdout",
          "output_type": "stream",
          "text": [
            "dict_keys(['fit_time', 'score_time', 'test_accuracy', 'test_f1', 'test_precision', 'test_recall'])\n",
            "Accuracy:  0.8940362731152206\n",
            "F1_micro:  0.8940362731152206\n",
            "Precision_micro:  0.8940362731152206\n",
            "Recall_micro:  0.8940362731152206\n"
          ]
        }
      ],
      "source": [
        "from sklearn.neighbors import KNeighborsClassifier\n",
        "\n",
        "#Scelta variabile dipendente (y) e indipendenti (X)\n",
        "X = df['Pattern String']\n",
        "y = df['Pattern Type']\n",
        "\n",
        "steps = [\n",
        "         ('vect', vectorizer),\n",
        "         ('over', RandomOverSampler(sampling_strategy='minority')),\n",
        "         ('tfidf', TfidfTransformer()),\n",
        "         ('chi',  SelectKBest(chi2, k=100)),\n",
        "         ('clf', KNeighborsClassifier())]\n",
        "pipeline = Pipeline(steps=steps)\n",
        "\n",
        "# evaluate pipeline\n",
        "cv = RepeatedKFold(n_splits=40, n_repeats=40, random_state=42)\n",
        "\n",
        "scoring = {'accuracy': 'accuracy',\n",
        "           'f1': 'f1_micro',\n",
        "           'precision': 'precision_micro',\n",
        "           'recall': 'recall_micro'}\n",
        "\n",
        "scores = cross_validate(pipeline, X, y, scoring=scoring, cv=cv)\n",
        "print(scores.keys())\n",
        "print(\"Accuracy: \",np.mean(scores['test_accuracy']))\n",
        "print(\"F1_micro: \",np.mean(scores['test_f1']))\n",
        "print(\"Precision_micro: \",np.mean(scores['test_precision']))\n",
        "print(\"Recall_micro: \",np.mean(scores['test_recall']))"
      ]
    },
    {
      "cell_type": "markdown",
      "metadata": {
        "id": "yrmCIuF2YXJP"
      },
      "source": [
        "LinearSVC"
      ]
    },
    {
      "cell_type": "code",
      "execution_count": null,
      "metadata": {
        "colab": {
          "background_save": true
        },
        "id": "DatFigOzPqf_",
        "outputId": "b912b0c8-73b5-4051-d762-25ef6922ea23"
      },
      "outputs": [
        {
          "name": "stdout",
          "output_type": "stream",
          "text": [
            "dict_keys(['fit_time', 'score_time', 'test_accuracy', 'test_f1', 'test_precision', 'test_recall'])\n",
            "Accuracy:  0.9112784495021338\n",
            "F1_micro:  0.9112784495021338\n",
            "Precision_micro:  0.9112784495021338\n",
            "Recall_micro:  0.9112784495021338\n"
          ]
        }
      ],
      "source": [
        "from sklearn.svm import LinearSVC\n",
        "\n",
        "#Scelta variabile dipendente (y) e indipendenti (X)\n",
        "X = df['Pattern String']\n",
        "y = df['Pattern Type']\n",
        "\n",
        "steps = [\n",
        "         ('vect', vectorizer),\n",
        "         ('over', RandomOverSampler(sampling_strategy='minority')),\n",
        "         ('tfidf', TfidfTransformer()),\n",
        "         ('chi',  SelectKBest(chi2, k=100)),\n",
        "         ('clf', LinearSVC())]\n",
        "pipeline = Pipeline(steps=steps)\n",
        "\n",
        "# evaluate pipeline\n",
        "cv = RepeatedKFold(n_splits=40, n_repeats=40)\n",
        "\n",
        "scoring = {'accuracy': 'accuracy',\n",
        "           'f1': 'f1_micro',\n",
        "           'precision': 'precision_micro',\n",
        "           'recall': 'recall_micro'}\n",
        "\n",
        "scores = cross_validate(pipeline, X, y, scoring=scoring, cv=cv)\n",
        "print(scores.keys())\n",
        "print(\"Accuracy: \",np.mean(scores['test_accuracy']))\n",
        "print(\"F1_micro: \",np.mean(scores['test_f1']))\n",
        "print(\"Precision_micro: \",np.mean(scores['test_precision']))\n",
        "print(\"Recall_micro: \",np.mean(scores['test_recall']))"
      ]
    }
  ],
  "metadata": {
    "colab": {
      "collapsed_sections": [],
      "name": "DarkPattern_Classifier.ipynb",
      "provenance": [],
      "authorship_tag": "ABX9TyOItY/agPphjK3tUcPCbY0f",
      "include_colab_link": true
    },
    "kernelspec": {
      "display_name": "Python 3",
      "name": "python3"
    },
    "language_info": {
      "name": "python"
    }
  },
  "nbformat": 4,
  "nbformat_minor": 0
}